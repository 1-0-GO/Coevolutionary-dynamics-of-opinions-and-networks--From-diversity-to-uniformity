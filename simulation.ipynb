{
 "cells": [
  {
   "cell_type": "code",
   "execution_count": 1,
   "metadata": {},
   "outputs": [],
   "source": [
    "from model import Simulation\n",
    "import networkx as nx\n",
    "import numpy as np\n",
    "import matplotlib.pyplot as plt\n",
    "from collections import Counter\n",
    "log = False"
   ]
  },
  {
   "cell_type": "code",
   "execution_count": 2,
   "metadata": {},
   "outputs": [],
   "source": [
    "def draw(G):\n",
    "    nx.draw(G, with_labels= True, node_color=list(nx.get_node_attributes(G, \"opinion\").values()))"
   ]
  },
  {
   "cell_type": "code",
   "execution_count": 7,
   "metadata": {},
   "outputs": [],
   "source": [
    "simul = Simulation(N=600, avg_degree=10, p=1, phi=1, num_opinions=30)\n",
    "G = simul.graph\n",
    "if log:    \n",
    "    print(simul.graph.edges)\n",
    "    print(nx.get_node_attributes(G, \"opinion\"))\n",
    "    draw(G)"
   ]
  },
  {
   "cell_type": "code",
   "execution_count": null,
   "metadata": {},
   "outputs": [],
   "source": [
    "#for _ in range(5) :\n",
    "#    simul.step()\n",
    "log = True\n",
    "if log:\n",
    "    print(nx.get_node_attributes(G, \"opinion\"))\n",
    "    draw(G)"
   ]
  },
  {
   "cell_type": "code",
   "execution_count": 8,
   "metadata": {},
   "outputs": [
    {
     "name": "stdout",
     "output_type": "stream",
     "text": [
      "1 1123 0\n",
      "1\n",
      "{}\n"
     ]
    }
   ],
   "source": [
    "log = False\n",
    "simul.run()\n",
    "print(simul.status, simul.time, simul.stall)\n",
    "print(simul.num_surviving_opinions)\n",
    "print(simul.stall_bin)"
   ]
  },
  {
   "cell_type": "code",
   "execution_count": null,
   "metadata": {},
   "outputs": [],
   "source": [
    "draw(G)"
   ]
  },
  {
   "cell_type": "code",
   "execution_count": null,
   "metadata": {},
   "outputs": [],
   "source": [
    "def mean(runs, func, *args):\n",
    "    sum = 0\n",
    "    count = 0\n",
    "    for i in range(runs):\n",
    "        res = func(*args) \n",
    "        if res >= 0:\n",
    "            sum += res\n",
    "            count += 1\n",
    "    return sum/count if count > 0 else -1 "
   ]
  },
  {
   "cell_type": "code",
   "execution_count": null,
   "metadata": {},
   "outputs": [],
   "source": [
    "def contour_plot_number_of_surviving_opinions(N=100, runs=50, avg_degree=10, num_opinions=4, p_count=20, phi_count=20):      \n",
    "    def run_with_params(p, phi):\n",
    "        simul = Simulation(N=N, avg_degree=avg_degree, p=p, phi=phi, num_opinions=num_opinions)\n",
    "        simul.run_retry()\n",
    "        if simul.status > -1:\n",
    "            return simul.num_surviving_opinions\n",
    "        else:\n",
    "            return -1\n",
    "    p_range = np.linspace(0, 1, p_count)\n",
    "    phi_range = np.linspace(0, 1, phi_count)\n",
    "    P, PHI = np.meshgrid(p_range, phi_range)\n",
    "    params = np.dstack((P, PHI)).reshape(-1,2)\n",
    "    surviving_opinions = np.array([mean(runs, run_with_params, p, phi) for p,phi in params])\n",
    "    Z = surviving_opinions.reshape(PHI.shape)\n",
    "    contour = plt.contourf(P, PHI, Z, levels=list(np.arange(1, num_opinions + 0.1, 0.1)), cmap='jet')\n",
    "    plt.colorbar(contour).ax.invert_yaxis()\n",
    "    plt.ylabel('Φ')\n",
    "    plt.xlabel('p')"
   ]
  },
  {
   "cell_type": "code",
   "execution_count": null,
   "metadata": {},
   "outputs": [],
   "source": [
    "contour_plot_number_of_surviving_opinions(N=100, avg_degree=5, p_count=5, phi_count=5, num_opinions=10, runs=5)"
   ]
  },
  {
   "cell_type": "code",
   "execution_count": null,
   "metadata": {},
   "outputs": [],
   "source": [
    "# o objetivo seria este. Mas não sei se vai ser possível\n",
    "contour_plot_number_of_surviving_opinions(N=1000, p_count=100, phi_count=100, phi_init=0, num_opinions=50, runs=100)"
   ]
  },
  {
   "cell_type": "code",
   "execution_count": null,
   "metadata": {},
   "outputs": [],
   "source": [
    "# mais rápido de obter se não conseguirmos correr o de cima\n",
    "contour_plot_number_of_surviving_opinions(N=800, p_count=50, phi_count=40, phi_init=0.2, num_opinions=30, runs=50)"
   ]
  },
  {
   "cell_type": "code",
   "execution_count": null,
   "metadata": {},
   "outputs": [],
   "source": [
    "def get_rank_distribution(G, normalized=True):  \n",
    "    rank_sequence = list(nx.get_node_attributes(G, 'opinion').values())  # rank sequence\n",
    "    rankCount = Counter(rank_sequence).most_common()\n",
    "    aux_y = [c for o,c in rankCount]\n",
    "    aux_x = list(range(1, len(aux_y)+1))\n",
    "\n",
    "    n_nodes = G.number_of_nodes()\n",
    "    if normalized:\n",
    "        for i in range(len(aux_y)):\n",
    "            aux_y[i] = aux_y[i]/n_nodes\n",
    "    return aux_x, aux_y\n",
    "    \n",
    "def plot_rank_distribution(ax, G, normalized=True, label=''):\n",
    "    aux_x, aux_y= get_rank_distribution(G, normalized=True)\n",
    "    return ax.plot(aux_x, aux_y, '-o', label=label, markersize=7)"
   ]
  },
  {
   "cell_type": "code",
   "execution_count": null,
   "metadata": {},
   "outputs": [],
   "source": [
    "N = 1000\n",
    "num_opinions = 100\n",
    "simul = Simulation(N=N, avg_degree=10, num_opinions=num_opinions, phi=0.6, p=0.5)\n",
    "simul2 = Simulation(N=N, avg_degree=10, num_opinions=num_opinions, phi=0.6, p=0.2) \n",
    "initial_random_graph = simul2.graph.copy()\n",
    "simul3 = Simulation(N=N, avg_degree=10, num_opinions=num_opinions, phi=0.6, p=0.8) \n",
    "simul.run()\n",
    "simul2.run_retry()\n",
    "simul3.run()\n",
    "fig, (ax,ax2) = plt.subplots(ncols=2, figsize=(16,6))\n",
    "ax.set_xlabel('Rank')\n",
    "ax.set_ylabel('Proportion')\n",
    "ax.set_xscale(\"log\")\n",
    "ax.set_yscale(\"log\")\n",
    "ax2.set_xlabel('Rank')\n",
    "ax2.set_ylabel('Proportion')\n",
    "plot1, = plot_rank_distribution(ax, initial_random_graph, normalized=True, label='Random Graph')\n",
    "plot2, = plot_rank_distribution(ax, simul.graph, normalized=True, label='p = 0.5')\n",
    "plot3, = plot_rank_distribution(ax, simul2.graph, normalized=True, label='p = 0.2')\n",
    "plot4, = plot_rank_distribution(ax2, simul.graph, normalized=True, label='p = 0.5')\n",
    "plot5, = plot_rank_distribution(ax2, simul3.graph, normalized=True, label='p = 0.8')\n",
    "plot1.set_marker('^')\n",
    "plot2.set_marker('o')\n",
    "plot3.set_marker('s')\n",
    "plot4.set_marker('o')\n",
    "plot5.set_marker('D')\n",
    "plot5.set_color('red')\n",
    "\n",
    "ax.legend(loc = 'upper right')\n",
    "ax2.legend(loc = 'upper right')"
   ]
  },
  {
   "cell_type": "code",
   "execution_count": null,
   "metadata": {},
   "outputs": [],
   "source": [
    "def plot_phi_vs_final_number_of_opinions(N=100, p=0.2, phi_count=5, runs=10, avg_degree=10, num_opinions=10):\n",
    "    def run_with_params(phi):\n",
    "        simul = Simulation(N=N, avg_degree=avg_degree, p=p, phi=phi, num_opinions=num_opinions)\n",
    "        simul.run_retry()\n",
    "        #print(simul.time, simul.status, simul.num_surviving_opinions, end=\"\\r\")\n",
    "        if simul.status > -1:\n",
    "            return simul.num_surviving_opinions\n",
    "        else:\n",
    "            return -1\n",
    "    phi_range = np.linspace(0, 1, phi_count)\n",
    "    surviving_opinions = np.array([mean(runs, run_with_params, phi) for phi in phi_range])\n",
    "    plt.plot(phi_range, surviving_opinions, '-o')\n",
    "    plt.xlabel('Φ')\n",
    "    plt.ylabel('Number of opinions')"
   ]
  },
  {
   "cell_type": "code",
   "execution_count": null,
   "metadata": {},
   "outputs": [],
   "source": [
    "plot_phi_vs_final_number_of_opinions(N=600, p=0.6, phi_count=5, runs=3, num_opinions=30)"
   ]
  },
  {
   "cell_type": "code",
   "execution_count": null,
   "metadata": {},
   "outputs": [],
   "source": [
    "plot_phi_vs_final_number_of_opinions(N=600, p=0.6, phi_count=20, runs=200, num_opinions=30)"
   ]
  },
  {
   "cell_type": "code",
   "execution_count": null,
   "metadata": {},
   "outputs": [],
   "source": [
    "def plot_p_vs_consensus_time(N=100, phi=0.2, p_count=10, runs=10, avg_degree=10, num_opinions=10):\n",
    "    def run_with_params(p, phi):\n",
    "        simul = Simulation(N=N, avg_degree=avg_degree, p=p, phi=phi, num_opinions=num_opinions)\n",
    "        simul.run_retry()\n",
    "        if simul.status > - 1:\n",
    "            return simul.time\n",
    "        else:\n",
    "            return -1    \n",
    "    p_range = np.linspace(0, 1, p_count)\n",
    "    consensus_time = np.array([mean(runs, run_with_params, p, phi) for p in p_range])\n",
    "    return plt.plot(p_range, consensus_time, '-o', label=f'phi={phi}')"
   ]
  },
  {
   "cell_type": "code",
   "execution_count": null,
   "metadata": {},
   "outputs": [],
   "source": [
    "N = 600\n",
    "num_opinions = 30\n",
    "phis =  [0.15, 0.3, 0.6]\n",
    "markers = ['s', 'o', '^']\n",
    "p_count = 5\n",
    "runs = 100\n",
    "for i in range(len(phis)):\n",
    "    plot, = plot_p_vs_consensus_time(N=N, phi=phis[i], p_count=p_count, runs=runs, avg_degree=10, num_opinions=num_opinions)\n",
    "    plot.set_marker(markers[i])\n",
    "plt.xlabel('p')\n",
    "plt.ylabel('Consensus time')\n",
    "plt.legend(loc='upper right')"
   ]
  },
  {
   "cell_type": "code",
   "execution_count": null,
   "metadata": {},
   "outputs": [],
   "source": [
    "G = nx.Graph()\n",
    "G.add_nodes_from(list(range(12)))\n",
    "G.add_edges_from([(0,1), (1,5), (1,4), (2,1), (2,3), (2,5), (2,7), (2,11), (5,6), (6,7), (3,8), (3,10), (4,9)])\n",
    "draw(G)"
   ]
  },
  {
   "cell_type": "code",
   "execution_count": null,
   "metadata": {},
   "outputs": [],
   "source": [
    "from random import sample\n",
    "def xulvi_brunet_sokolov(G, assort=True, turns=100, target=0.2):\n",
    "    i=0\n",
    "    sign = 1 if assort else -1\n",
    "    curr_assortativity = nx.degree_assortativity_coefficient(G)\n",
    "    while i < turns and sign * (curr_assortativity - target) < 0:\n",
    "        switch_edges = sample(list(G.edges), 2)\n",
    "        nodes = [n for e in switch_edges for n in e]\n",
    "        if len(set(nodes)) != 4:\n",
    "            continue\n",
    "        nodes.sort(key=lambda n: G.degree[n])\n",
    "        edge1 = (nodes[0], nodes[1])\n",
    "        edge2 = (nodes[2], nodes[3])\n",
    "        if not assort:\n",
    "            edge1 = (nodes[0], nodes[3])\n",
    "            edge2 = (nodes[1], nodes[2])\n",
    "        if G.has_edge(*edge1) or G.has_edge(*edge2):\n",
    "            continue\n",
    "        G.remove_edges_from(switch_edges)\n",
    "        G.add_edges_from([edge1, edge2])\n",
    "        if(i%100):\n",
    "            curr_assortativity = nx.degree_assortativity_coefficient(G)\n",
    "        i+=1\n",
    "    return nx.degree_assortativity_coefficient(G)"
   ]
  },
  {
   "cell_type": "code",
   "execution_count": null,
   "metadata": {},
   "outputs": [],
   "source": [
    "import os\n",
    "N = 600\n",
    "M = 5\n",
    "turns = 3000\n",
    "target = 0.35\n",
    "dir_to_save = \"saved_graphs\"\n",
    "num_files = len([entry for entry in os.listdir(dir_to_save) if os.path.isfile(os.path.join(dir_to_save, entry))])\n",
    "\n",
    "for i in range(10):\n",
    "    G = nx.barabasi_albert_graph(N, M)\n",
    "    res_ass = xulvi_brunet_sokolov(G, assort=True, turns=turns, target=target)\n",
    "    print(res_ass)\n",
    "    if(not nx.is_connected(G)):\n",
    "        print(\"not connected\")\n",
    "        continue\n",
    "    if(res_ass < 0.9 * target):\n",
    "        print(\"missed target\")\n",
    "        continue\n",
    "    path = os.path.join(dir_to_save, f\"{num_files+i}_BAassort_{N}_{M}.gml\")\n",
    "    nx.write_gml(G, path)\n",
    "\n",
    "for i in range(10):\n",
    "    G = nx.barabasi_albert_graph(N, M)\n",
    "    res_ass = xulvi_brunet_sokolov(G, assort=False, turns=turns, target=-target)\n",
    "    print(res_ass)\n",
    "    if(not nx.is_connected(G)):\n",
    "        print(\"not connected\")\n",
    "        continue\n",
    "    if(res_ass > 0.9 * target):\n",
    "        print(\"missed target\")\n",
    "        continue\n",
    "    path = os.path.join(dir_to_save, f\"{num_files+i}_BAdisassort_{N}_{M}.gml\")\n",
    "    nx.write_gml(G, path)"
   ]
  },
  {
   "cell_type": "code",
   "execution_count": null,
   "metadata": {},
   "outputs": [],
   "source": [
    "def simpsons_diversity_index(G):\n",
    "    \"\"\" \n",
    "    Computes the probability that two individuals randomly selected from a sample will have different opinions.\n",
    "    \"\"\"\n",
    "    all_opinions = list(nx.get_node_attributes(G, 'opinion').values())  # rank sequence\n",
    "    count_opinions = Counter(all_opinions).most_common()\n",
    "    opinion_distr = [c for o,c in count_opinions]\n",
    "    s = sum(map(lambda n: n*(n-1), opinion_distr))\n",
    "    N = G.number_of_nodes()\n",
    "    return 1 - s / (N*(N-1))"
   ]
  }
 ],
 "metadata": {
  "kernelspec": {
   "display_name": "base",
   "language": "python",
   "name": "python3"
  },
  "language_info": {
   "codemirror_mode": {
    "name": "ipython",
    "version": 3
   },
   "file_extension": ".py",
   "mimetype": "text/x-python",
   "name": "python",
   "nbconvert_exporter": "python",
   "pygments_lexer": "ipython3",
   "version": "3.9.18"
  },
  "orig_nbformat": 4
 },
 "nbformat": 4,
 "nbformat_minor": 2
}
