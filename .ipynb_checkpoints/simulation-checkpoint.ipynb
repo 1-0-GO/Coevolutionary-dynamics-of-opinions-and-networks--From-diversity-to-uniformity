{
 "cells": [
  {
   "cell_type": "code",
   "execution_count": 1,
   "metadata": {
    "is_executing": true
   },
   "outputs": [],
   "source": [
    "import networkx as nx\n",
    "import numpy as np\n",
    "import matplotlib.pyplot as plt\n",
    "from collections import Counter\n",
    "log = False"
   ]
  },
  {
   "cell_type": "code",
   "execution_count": 2,
   "metadata": {},
   "outputs": [],
   "source": [
    "def get_neighbor_opinion_distribution(G, node, exclude = None):\n",
    "    \"\"\"\n",
    "    Return bin count of the opinions of the neighbors\n",
    "    \"\"\" \n",
    "    count = {}\n",
    "    for neigh in nx.neighbors(G, node):\n",
    "        opinion = G.nodes[neigh]['opinion']\n",
    "        if opinion != exclude:\n",
    "            count[opinion] = count.get(opinion, 0) + 1\n",
    "    return count"
   ]
  },
  {
   "cell_type": "code",
   "execution_count": 3,
   "metadata": {},
   "outputs": [],
   "source": [
    "def get_majority_opinion(G, node):\n",
    "    \"\"\"\n",
    "    Calculate the majority opinion of the nodes, i.e., the opinion held by the largest \n",
    "    number of individuals among the neighbors of the node. Possibly returns the node's current \n",
    "    opinion if that is the majority opinion among its neighbors\n",
    "    \"\"\"\n",
    "    count = get_neighbor_opinion_distribution(G, node)\n",
    "    maj_opinion = G.nodes[node]['opinion']\n",
    "    max_count = count.get(maj_opinion, 0)\n",
    "    for o, c in count.items():\n",
    "        if c > max_count:\n",
    "            maj_opinion = o\n",
    "            max_count = c  \n",
    "    return maj_opinion        "
   ]
  },
  {
   "cell_type": "code",
   "execution_count": 4,
   "metadata": {},
   "outputs": [],
   "source": [
    "def rewire(G, node, phi):\n",
    "    \"\"\" \n",
    "    Disconnect node from a neighbor according to MA rule and connect him with probability phi\n",
    "    to a random neighbor of its neighbors who holds the same\n",
    "    opinion, or otherwise to a random one selected from the\n",
    "    whole population except its nearest neighbors with probability 1-phi.\n",
    "    \"\"\"\n",
    "    node_opinion = G.nodes[node]['opinion']\n",
    "    count = get_neighbor_opinion_distribution(G, node, exclude = node_opinion)\n",
    "    if not count:\n",
    "        return 1\n",
    "    min_opinion_count = min(count.values()) \n",
    "    candidate_removal_nodes = [ neigh for neigh in nx.neighbors(G, node) if \n",
    "                                G.nodes[neigh]['opinion'] != node_opinion and\n",
    "                                count[G.nodes[neigh]['opinion']] == min_opinion_count and\n",
    "                                G.degree[neigh] > 1\n",
    "                               ]\n",
    "    if not candidate_removal_nodes:\n",
    "        return 2\n",
    "    neigh_remove = np.random.choice(candidate_removal_nodes)\n",
    "    neigh_add = None\n",
    "    rule = np.random.binomial(1, phi)\n",
    "    # rewire to neighbor of neighbors with same opinion\n",
    "    if rule == 1:\n",
    "        neighbor_of_neighbors = { neigh_of_neigh \n",
    "                                for neigh in nx.neighbors(G, node) \n",
    "                                for neigh_of_neigh in nx.neighbors(G, neigh) \n",
    "                                if G.nodes[neigh_of_neigh]['opinion'] == node_opinion\n",
    "                                }\n",
    "        neighbor_of_neighbors.remove(node)\n",
    "        neighbor_of_neighbors -= set(nx.neighbors(G, node))\n",
    "        if not neighbor_of_neighbors:\n",
    "            return 3\n",
    "        neigh_add = np.random.choice(np.fromiter(neighbor_of_neighbors, int, len(neighbor_of_neighbors))) \n",
    "    # rewire to any non-neighboring node in the network with same opinion\n",
    "    elif rule == 0:\n",
    "        candidates = { other_node \n",
    "                       for other_node in nx.nodes(G)\n",
    "                       if G.nodes[other_node]['opinion'] == node_opinion\n",
    "                    }   \n",
    "        candidates.remove(node)\n",
    "        candidates -= set(nx.neighbors(G, node))\n",
    "        if not candidates:\n",
    "            return 4\n",
    "        neigh_add = np.random.choice(np.fromiter(candidates, int, len(candidates)))\n",
    "    G.remove_edge(node, neigh_remove)    \n",
    "    G.add_edge(node, neigh_add)\n",
    "    if not nx.is_connected(G):\n",
    "        # undo removal and addition of neighbors if it results in a disconnected graph\n",
    "        G.remove_edge(node, neigh_add)    \n",
    "        G.add_edge(node, neigh_remove)\n",
    "        return 5\n",
    "    if log:\n",
    "        print('MA for node {} -> rule:{}, neigh_removed:{}, neigh_added:{}'\n",
    "              .format(node, rule, neigh_remove, neigh_add))\n",
    "    return 0"
   ]
  },
  {
   "cell_type": "code",
   "execution_count": 5,
   "metadata": {},
   "outputs": [],
   "source": [
    "class Simulation:\n",
    "    def __init__(self, N=15, avg_degree=5, p=0.5, phi=0.5, num_opinions=3):\n",
    "        self.N = N\n",
    "        self.k = avg_degree\n",
    "        self.p = p\n",
    "        self.phi = phi\n",
    "        self.G = num_opinions\n",
    "        self.time = 0\n",
    "        self.num_surviving_opinions = 0\n",
    "        self.stall = 0\n",
    "        self.stall_bin = {}\n",
    "        self.graph = nx.gnp_random_graph(N, avg_degree/N)\n",
    "        self.status = 0\n",
    "        # Guarantee initial graph is connected\n",
    "        i = 0\n",
    "        while(not nx.is_connected(self.graph)):\n",
    "            if i == 5:\n",
    "                self.status = -1\n",
    "            else:   \n",
    "               self.graph = nx.gnp_random_graph(N, avg_degree/N)\n",
    "               i += 1            \n",
    "        self.init_opinions()\n",
    "    def init_opinions(self):\n",
    "        \"\"\" \n",
    "        Set the opinion of all individuals in the graph. \n",
    "        All opinions are equally likely (uniform distribution).\n",
    "        \"\"\"\n",
    "        opinions = {i: 1+np.random.choice(self.G) for i in range(self.N)}\n",
    "        nx.set_node_attributes(self.graph, opinions, 'opinion')\n",
    "    def step(self):\n",
    "        \"\"\" \n",
    "        One step of the simulation. Application of one of the rules (MA or MP) to a single node. \n",
    "        \"\"\"\n",
    "        # choose between MA and MP according to the parameter p\n",
    "        rule = np.random.binomial(1, self.p)\n",
    "        # choose a random node to apply the rule to\n",
    "        node = np.random.choice(nx.nodes(self.graph))\n",
    "        stall_code = 0\n",
    "        # rule==1 -> Apply majority preference rule to node\n",
    "        if rule == 1:\n",
    "            maj_opinion = get_majority_opinion(self.graph, node)\n",
    "            if log:    \n",
    "                prev_opinion = self.graph.nodes[node]['opinion']\n",
    "                print('MP for node {} -> prev_opinion:{}, curr_opinion:{}'.format(node, prev_opinion, maj_opinion))\n",
    "            self.graph.nodes[node]['opinion'] = maj_opinion\n",
    "        # rule==0 -> Apply minority avoidance rule to node\n",
    "        else:  \n",
    "           stall_code = rewire(self.graph, node, self.phi) \n",
    "        if not stall_code:\n",
    "            self.time += 1\n",
    "        # error_code 1 means the node doesn't have neighbors with an opinion different than his\n",
    "        # so it's no problem since it just means the node converged already\n",
    "        elif stall_code != 1:\n",
    "            self.stall += 1\n",
    "            if log:\n",
    "                self.stall_bin[stall_code] = self.stall_bin.get(stall_code, 0) + 1\n",
    "    def stop_condition(self):\n",
    "        \"\"\"\n",
    "        When we reach the consensus state we can stop the simulation, i.e., when each individuals\n",
    "        opinion agrees with the majority of its neighbors.\n",
    "        \"\"\"\n",
    "        def agrees_with_majority(node):\n",
    "            count = get_neighbor_opinion_distribution(self.graph, node)\n",
    "            max_opinion_count = max(count.values()) \n",
    "            return count.get(self.graph.nodes[node]['opinion'], 0) == max_opinion_count\n",
    "        return all(\n",
    "                agrees_with_majority(node)\n",
    "                for node in nx.nodes(self.graph)\n",
    "             )\n",
    "    def loop_condition(self):\n",
    "        \"\"\"\n",
    "        Condition to stop the simulation run due to possible loop.\n",
    "        Here we expect more stalls with more nodes, less connectedness and\n",
    "        larger phi (for simplicity's sake we ignore phi).\n",
    "        If there are too many stalls for each advance in the simulation we\n",
    "        consider the simulation is probably looping. \n",
    "        \"\"\"\n",
    "        return self.stall >= 20 + self.time * np.log2(self.N) / self.k\n",
    "    def run(self):\n",
    "        if self.status:\n",
    "            return self.status\n",
    "        while(not self.stop_condition()):\n",
    "            self.step()\n",
    "            if self.loop_condition():\n",
    "                self.status = -1\n",
    "                return -1\n",
    "        self.status = 1    \n",
    "        self.num_surviving_opinions = len(set(nx.get_node_attributes(self.graph, \"opinion\").values()))\n",
    "        return 1"
   ]
  },
  {
   "cell_type": "code",
   "execution_count": 6,
   "metadata": {},
   "outputs": [],
   "source": [
    "def draw(G):\n",
    "    nx.draw(G, with_labels= True, node_color=list(nx.get_node_attributes(G, \"opinion\").values()))"
   ]
  },
  {
   "cell_type": "code",
   "execution_count": 7,
   "metadata": {},
   "outputs": [],
   "source": [
    "simul = Simulation(N = 1000, avg_degree = 10, p = 1)\n",
    "G = simul.graph\n",
    "if log:    \n",
    "    print(simul.graph.edges)\n",
    "    print(nx.get_node_attributes(G, \"opinion\"))\n",
    "    draw(G)"
   ]
  },
  {
   "cell_type": "code",
   "execution_count": 8,
   "metadata": {},
   "outputs": [],
   "source": [
    "for _ in range(5) :\n",
    "    simul.step()\n",
    "if log:\n",
    "    print(nx.get_node_attributes(G, \"opinion\"))\n",
    "    draw(G)"
   ]
  },
  {
   "cell_type": "code",
   "execution_count": 9,
   "metadata": {},
   "outputs": [
    {
     "name": "stdout",
     "output_type": "stream",
     "text": [
      "5.696101665496826\n",
      "1 10766 0\n",
      "{}\n"
     ]
    }
   ],
   "source": [
    "import time\n",
    "tstart = time.time()\n",
    "simul.run()\n",
    "print(time.time() - tstart)\n",
    "if log: \n",
    "    draw(G)\n",
    "print(simul.status, simul.time, simul.stall)\n",
    "print(simul.stall_bin)"
   ]
  },
  {
   "cell_type": "code",
   "execution_count": 10,
   "metadata": {},
   "outputs": [],
   "source": [
    "def contour_plot_number_of_surviving_opinions(N=100, runs=5, avg_degree=10, num_opinions=4, p_count=20, phi_count=20, phi_init=0.2):\n",
    "    def mean(func, *args):\n",
    "        sum = 0\n",
    "        count = 0\n",
    "        for i in range(runs):\n",
    "            res = func(*args) \n",
    "            if res >= 0:\n",
    "                sum += res\n",
    "                count += 1\n",
    "        return sum/count if count > 0 else -1        \n",
    "    def run_with_params(p, phi):\n",
    "        simul = Simulation(N=N, avg_degree=avg_degree, p=p, phi=phi, num_opinions=num_opinions)\n",
    "        simul.run()\n",
    "        i=1\n",
    "        while simul.status == -1 and i < 5:\n",
    "            simul = Simulation(N=N, avg_degree=avg_degree, p=p, phi=phi, num_opinions=num_opinions)\n",
    "            simul.run()\n",
    "            i+=1\n",
    "        if simul.status == 1:\n",
    "            return simul.num_surviving_opinions\n",
    "        else:\n",
    "            return -1\n",
    "    p_range = np.linspace(0, 1, p_count)\n",
    "    phi_range = np.linspace(phi_init, 1, phi_count)\n",
    "    P, PHI = np.meshgrid(p_range, phi_range)\n",
    "    params = np.dstack((P, PHI)).reshape(-1,2)\n",
    "    surviving_opinions = np.array([mean(run_with_params, p, phi) for p,phi in params])\n",
    "    Z = surviving_opinions.reshape(PHI.shape)\n",
    "    contour = plt.contourf(P, PHI, Z, levels=list(range(1, num_opinions+1)), cmap='jet')\n",
    "    plt.colorbar(contour).ax.invert_yaxis()\n",
    "    plt.ylabel('Φ')\n",
    "    plt.xlabel('p')"
   ]
  },
  {
   "cell_type": "code",
   "execution_count": 14,
   "metadata": {},
   "outputs": [
    {
     "ename": "ModuleNotFoundError",
     "evalue": "No module named 'jupyterflame'",
     "output_type": "error",
     "traceback": [
      "\u001b[1;31m---------------------------------------------------------------------------\u001b[0m",
      "\u001b[1;31mModuleNotFoundError\u001b[0m                       Traceback (most recent call last)",
      "\u001b[1;32m~\\AppData\\Local\\Temp\\ipykernel_33388\\826079967.py\u001b[0m in \u001b[0;36m<module>\u001b[1;34m\u001b[0m\n\u001b[1;32m----> 1\u001b[1;33m \u001b[0mget_ipython\u001b[0m\u001b[1;33m(\u001b[0m\u001b[1;33m)\u001b[0m\u001b[1;33m.\u001b[0m\u001b[0mrun_line_magic\u001b[0m\u001b[1;33m(\u001b[0m\u001b[1;34m'load_ext'\u001b[0m\u001b[1;33m,\u001b[0m \u001b[1;34m'jupyterflame'\u001b[0m\u001b[1;33m)\u001b[0m\u001b[1;33m\u001b[0m\u001b[1;33m\u001b[0m\u001b[0m\n\u001b[0m\u001b[0;32m      2\u001b[0m \u001b[1;32mimport\u001b[0m \u001b[0mtime\u001b[0m\u001b[1;33m\u001b[0m\u001b[1;33m\u001b[0m\u001b[0m\n\u001b[0;32m      3\u001b[0m \u001b[0mtstart\u001b[0m \u001b[1;33m=\u001b[0m \u001b[0mtime\u001b[0m\u001b[1;33m.\u001b[0m\u001b[0mtime\u001b[0m\u001b[1;33m(\u001b[0m\u001b[1;33m)\u001b[0m\u001b[1;33m\u001b[0m\u001b[1;33m\u001b[0m\u001b[0m\n\u001b[0;32m      4\u001b[0m \u001b[0mcontour_plot_number_of_surviving_opinions\u001b[0m\u001b[1;33m(\u001b[0m\u001b[0mN\u001b[0m\u001b[1;33m=\u001b[0m\u001b[1;36m300\u001b[0m\u001b[1;33m,\u001b[0m \u001b[0mp_count\u001b[0m\u001b[1;33m=\u001b[0m\u001b[1;36m10\u001b[0m\u001b[1;33m,\u001b[0m \u001b[0mphi_count\u001b[0m\u001b[1;33m=\u001b[0m\u001b[1;36m5\u001b[0m\u001b[1;33m,\u001b[0m \u001b[0mnum_opinions\u001b[0m\u001b[1;33m=\u001b[0m\u001b[1;36m8\u001b[0m\u001b[1;33m)\u001b[0m\u001b[1;33m\u001b[0m\u001b[1;33m\u001b[0m\u001b[0m\n\u001b[0;32m      5\u001b[0m \u001b[0mprint\u001b[0m\u001b[1;33m(\u001b[0m\u001b[0mtime\u001b[0m\u001b[1;33m.\u001b[0m\u001b[0mtime\u001b[0m\u001b[1;33m(\u001b[0m\u001b[1;33m)\u001b[0m \u001b[1;33m-\u001b[0m \u001b[0mtstart\u001b[0m \u001b[1;33m)\u001b[0m\u001b[1;33m\u001b[0m\u001b[1;33m\u001b[0m\u001b[0m\n",
      "\u001b[1;32m~\\anaconda3\\lib\\site-packages\\IPython\\core\\interactiveshell.py\u001b[0m in \u001b[0;36mrun_line_magic\u001b[1;34m(self, magic_name, line, _stack_depth)\u001b[0m\n\u001b[0;32m   2362\u001b[0m                 \u001b[0mkwargs\u001b[0m\u001b[1;33m[\u001b[0m\u001b[1;34m'local_ns'\u001b[0m\u001b[1;33m]\u001b[0m \u001b[1;33m=\u001b[0m \u001b[0mself\u001b[0m\u001b[1;33m.\u001b[0m\u001b[0mget_local_scope\u001b[0m\u001b[1;33m(\u001b[0m\u001b[0mstack_depth\u001b[0m\u001b[1;33m)\u001b[0m\u001b[1;33m\u001b[0m\u001b[1;33m\u001b[0m\u001b[0m\n\u001b[0;32m   2363\u001b[0m             \u001b[1;32mwith\u001b[0m \u001b[0mself\u001b[0m\u001b[1;33m.\u001b[0m\u001b[0mbuiltin_trap\u001b[0m\u001b[1;33m:\u001b[0m\u001b[1;33m\u001b[0m\u001b[1;33m\u001b[0m\u001b[0m\n\u001b[1;32m-> 2364\u001b[1;33m                 \u001b[0mresult\u001b[0m \u001b[1;33m=\u001b[0m \u001b[0mfn\u001b[0m\u001b[1;33m(\u001b[0m\u001b[1;33m*\u001b[0m\u001b[0margs\u001b[0m\u001b[1;33m,\u001b[0m \u001b[1;33m**\u001b[0m\u001b[0mkwargs\u001b[0m\u001b[1;33m)\u001b[0m\u001b[1;33m\u001b[0m\u001b[1;33m\u001b[0m\u001b[0m\n\u001b[0m\u001b[0;32m   2365\u001b[0m             \u001b[1;32mreturn\u001b[0m \u001b[0mresult\u001b[0m\u001b[1;33m\u001b[0m\u001b[1;33m\u001b[0m\u001b[0m\n\u001b[0;32m   2366\u001b[0m \u001b[1;33m\u001b[0m\u001b[0m\n",
      "\u001b[1;32m~\\anaconda3\\lib\\site-packages\\decorator.py\u001b[0m in \u001b[0;36mfun\u001b[1;34m(*args, **kw)\u001b[0m\n\u001b[0;32m    230\u001b[0m             \u001b[1;32mif\u001b[0m \u001b[1;32mnot\u001b[0m \u001b[0mkwsyntax\u001b[0m\u001b[1;33m:\u001b[0m\u001b[1;33m\u001b[0m\u001b[1;33m\u001b[0m\u001b[0m\n\u001b[0;32m    231\u001b[0m                 \u001b[0margs\u001b[0m\u001b[1;33m,\u001b[0m \u001b[0mkw\u001b[0m \u001b[1;33m=\u001b[0m \u001b[0mfix\u001b[0m\u001b[1;33m(\u001b[0m\u001b[0margs\u001b[0m\u001b[1;33m,\u001b[0m \u001b[0mkw\u001b[0m\u001b[1;33m,\u001b[0m \u001b[0msig\u001b[0m\u001b[1;33m)\u001b[0m\u001b[1;33m\u001b[0m\u001b[1;33m\u001b[0m\u001b[0m\n\u001b[1;32m--> 232\u001b[1;33m             \u001b[1;32mreturn\u001b[0m \u001b[0mcaller\u001b[0m\u001b[1;33m(\u001b[0m\u001b[0mfunc\u001b[0m\u001b[1;33m,\u001b[0m \u001b[1;33m*\u001b[0m\u001b[1;33m(\u001b[0m\u001b[0mextras\u001b[0m \u001b[1;33m+\u001b[0m \u001b[0margs\u001b[0m\u001b[1;33m)\u001b[0m\u001b[1;33m,\u001b[0m \u001b[1;33m**\u001b[0m\u001b[0mkw\u001b[0m\u001b[1;33m)\u001b[0m\u001b[1;33m\u001b[0m\u001b[1;33m\u001b[0m\u001b[0m\n\u001b[0m\u001b[0;32m    233\u001b[0m     \u001b[0mfun\u001b[0m\u001b[1;33m.\u001b[0m\u001b[0m__name__\u001b[0m \u001b[1;33m=\u001b[0m \u001b[0mfunc\u001b[0m\u001b[1;33m.\u001b[0m\u001b[0m__name__\u001b[0m\u001b[1;33m\u001b[0m\u001b[1;33m\u001b[0m\u001b[0m\n\u001b[0;32m    234\u001b[0m     \u001b[0mfun\u001b[0m\u001b[1;33m.\u001b[0m\u001b[0m__doc__\u001b[0m \u001b[1;33m=\u001b[0m \u001b[0mfunc\u001b[0m\u001b[1;33m.\u001b[0m\u001b[0m__doc__\u001b[0m\u001b[1;33m\u001b[0m\u001b[1;33m\u001b[0m\u001b[0m\n",
      "\u001b[1;32m~\\anaconda3\\lib\\site-packages\\IPython\\core\\magic.py\u001b[0m in \u001b[0;36m<lambda>\u001b[1;34m(f, *a, **k)\u001b[0m\n\u001b[0;32m    185\u001b[0m     \u001b[1;31m# but it's overkill for just that one bit of state.\u001b[0m\u001b[1;33m\u001b[0m\u001b[1;33m\u001b[0m\u001b[0m\n\u001b[0;32m    186\u001b[0m     \u001b[1;32mdef\u001b[0m \u001b[0mmagic_deco\u001b[0m\u001b[1;33m(\u001b[0m\u001b[0marg\u001b[0m\u001b[1;33m)\u001b[0m\u001b[1;33m:\u001b[0m\u001b[1;33m\u001b[0m\u001b[1;33m\u001b[0m\u001b[0m\n\u001b[1;32m--> 187\u001b[1;33m         \u001b[0mcall\u001b[0m \u001b[1;33m=\u001b[0m \u001b[1;32mlambda\u001b[0m \u001b[0mf\u001b[0m\u001b[1;33m,\u001b[0m \u001b[1;33m*\u001b[0m\u001b[0ma\u001b[0m\u001b[1;33m,\u001b[0m \u001b[1;33m**\u001b[0m\u001b[0mk\u001b[0m\u001b[1;33m:\u001b[0m \u001b[0mf\u001b[0m\u001b[1;33m(\u001b[0m\u001b[1;33m*\u001b[0m\u001b[0ma\u001b[0m\u001b[1;33m,\u001b[0m \u001b[1;33m**\u001b[0m\u001b[0mk\u001b[0m\u001b[1;33m)\u001b[0m\u001b[1;33m\u001b[0m\u001b[1;33m\u001b[0m\u001b[0m\n\u001b[0m\u001b[0;32m    188\u001b[0m \u001b[1;33m\u001b[0m\u001b[0m\n\u001b[0;32m    189\u001b[0m         \u001b[1;32mif\u001b[0m \u001b[0mcallable\u001b[0m\u001b[1;33m(\u001b[0m\u001b[0marg\u001b[0m\u001b[1;33m)\u001b[0m\u001b[1;33m:\u001b[0m\u001b[1;33m\u001b[0m\u001b[1;33m\u001b[0m\u001b[0m\n",
      "\u001b[1;32m~\\anaconda3\\lib\\site-packages\\IPython\\core\\magics\\extension.py\u001b[0m in \u001b[0;36mload_ext\u001b[1;34m(self, module_str)\u001b[0m\n\u001b[0;32m     31\u001b[0m         \u001b[1;32mif\u001b[0m \u001b[1;32mnot\u001b[0m \u001b[0mmodule_str\u001b[0m\u001b[1;33m:\u001b[0m\u001b[1;33m\u001b[0m\u001b[1;33m\u001b[0m\u001b[0m\n\u001b[0;32m     32\u001b[0m             \u001b[1;32mraise\u001b[0m \u001b[0mUsageError\u001b[0m\u001b[1;33m(\u001b[0m\u001b[1;34m'Missing module name.'\u001b[0m\u001b[1;33m)\u001b[0m\u001b[1;33m\u001b[0m\u001b[1;33m\u001b[0m\u001b[0m\n\u001b[1;32m---> 33\u001b[1;33m         \u001b[0mres\u001b[0m \u001b[1;33m=\u001b[0m \u001b[0mself\u001b[0m\u001b[1;33m.\u001b[0m\u001b[0mshell\u001b[0m\u001b[1;33m.\u001b[0m\u001b[0mextension_manager\u001b[0m\u001b[1;33m.\u001b[0m\u001b[0mload_extension\u001b[0m\u001b[1;33m(\u001b[0m\u001b[0mmodule_str\u001b[0m\u001b[1;33m)\u001b[0m\u001b[1;33m\u001b[0m\u001b[1;33m\u001b[0m\u001b[0m\n\u001b[0m\u001b[0;32m     34\u001b[0m \u001b[1;33m\u001b[0m\u001b[0m\n\u001b[0;32m     35\u001b[0m         \u001b[1;32mif\u001b[0m \u001b[0mres\u001b[0m \u001b[1;33m==\u001b[0m \u001b[1;34m'already loaded'\u001b[0m\u001b[1;33m:\u001b[0m\u001b[1;33m\u001b[0m\u001b[1;33m\u001b[0m\u001b[0m\n",
      "\u001b[1;32m~\\anaconda3\\lib\\site-packages\\IPython\\core\\extensions.py\u001b[0m in \u001b[0;36mload_extension\u001b[1;34m(self, module_str)\u001b[0m\n\u001b[0;32m     78\u001b[0m             \u001b[1;32mif\u001b[0m \u001b[0mmodule_str\u001b[0m \u001b[1;32mnot\u001b[0m \u001b[1;32min\u001b[0m \u001b[0msys\u001b[0m\u001b[1;33m.\u001b[0m\u001b[0mmodules\u001b[0m\u001b[1;33m:\u001b[0m\u001b[1;33m\u001b[0m\u001b[1;33m\u001b[0m\u001b[0m\n\u001b[0;32m     79\u001b[0m                 \u001b[1;32mwith\u001b[0m \u001b[0mprepended_to_syspath\u001b[0m\u001b[1;33m(\u001b[0m\u001b[0mself\u001b[0m\u001b[1;33m.\u001b[0m\u001b[0mipython_extension_dir\u001b[0m\u001b[1;33m)\u001b[0m\u001b[1;33m:\u001b[0m\u001b[1;33m\u001b[0m\u001b[1;33m\u001b[0m\u001b[0m\n\u001b[1;32m---> 80\u001b[1;33m                     \u001b[0mmod\u001b[0m \u001b[1;33m=\u001b[0m \u001b[0mimport_module\u001b[0m\u001b[1;33m(\u001b[0m\u001b[0mmodule_str\u001b[0m\u001b[1;33m)\u001b[0m\u001b[1;33m\u001b[0m\u001b[1;33m\u001b[0m\u001b[0m\n\u001b[0m\u001b[0;32m     81\u001b[0m                     \u001b[1;32mif\u001b[0m \u001b[0mmod\u001b[0m\u001b[1;33m.\u001b[0m\u001b[0m__file__\u001b[0m\u001b[1;33m.\u001b[0m\u001b[0mstartswith\u001b[0m\u001b[1;33m(\u001b[0m\u001b[0mself\u001b[0m\u001b[1;33m.\u001b[0m\u001b[0mipython_extension_dir\u001b[0m\u001b[1;33m)\u001b[0m\u001b[1;33m:\u001b[0m\u001b[1;33m\u001b[0m\u001b[1;33m\u001b[0m\u001b[0m\n\u001b[0;32m     82\u001b[0m                         print((\"Loading extensions from {dir} is deprecated. \"\n",
      "\u001b[1;32m~\\anaconda3\\lib\\importlib\\__init__.py\u001b[0m in \u001b[0;36mimport_module\u001b[1;34m(name, package)\u001b[0m\n\u001b[0;32m    125\u001b[0m                 \u001b[1;32mbreak\u001b[0m\u001b[1;33m\u001b[0m\u001b[1;33m\u001b[0m\u001b[0m\n\u001b[0;32m    126\u001b[0m             \u001b[0mlevel\u001b[0m \u001b[1;33m+=\u001b[0m \u001b[1;36m1\u001b[0m\u001b[1;33m\u001b[0m\u001b[1;33m\u001b[0m\u001b[0m\n\u001b[1;32m--> 127\u001b[1;33m     \u001b[1;32mreturn\u001b[0m \u001b[0m_bootstrap\u001b[0m\u001b[1;33m.\u001b[0m\u001b[0m_gcd_import\u001b[0m\u001b[1;33m(\u001b[0m\u001b[0mname\u001b[0m\u001b[1;33m[\u001b[0m\u001b[0mlevel\u001b[0m\u001b[1;33m:\u001b[0m\u001b[1;33m]\u001b[0m\u001b[1;33m,\u001b[0m \u001b[0mpackage\u001b[0m\u001b[1;33m,\u001b[0m \u001b[0mlevel\u001b[0m\u001b[1;33m)\u001b[0m\u001b[1;33m\u001b[0m\u001b[1;33m\u001b[0m\u001b[0m\n\u001b[0m\u001b[0;32m    128\u001b[0m \u001b[1;33m\u001b[0m\u001b[0m\n\u001b[0;32m    129\u001b[0m \u001b[1;33m\u001b[0m\u001b[0m\n",
      "\u001b[1;32m~\\anaconda3\\lib\\importlib\\_bootstrap.py\u001b[0m in \u001b[0;36m_gcd_import\u001b[1;34m(name, package, level)\u001b[0m\n",
      "\u001b[1;32m~\\anaconda3\\lib\\importlib\\_bootstrap.py\u001b[0m in \u001b[0;36m_find_and_load\u001b[1;34m(name, import_)\u001b[0m\n",
      "\u001b[1;32m~\\anaconda3\\lib\\importlib\\_bootstrap.py\u001b[0m in \u001b[0;36m_find_and_load_unlocked\u001b[1;34m(name, import_)\u001b[0m\n",
      "\u001b[1;31mModuleNotFoundError\u001b[0m: No module named 'jupyterflame'"
     ]
    }
   ],
   "source": [
    "%load_ext jupyterflame\n",
    "import time\n",
    "tstart = time.time()\n",
    "contour_plot_number_of_surviving_opinions(N=300, p_count=10, phi_count=5, num_opinions=8)\n",
    "print(time.time() - tstart )"
   ]
  },
  {
   "cell_type": "code",
   "execution_count": null,
   "metadata": {},
   "outputs": [],
   "source": [
    "# o objetivo seria este. Mas não sei se vai ser possível\n",
    "contour_plot_number_of_surviving_opinions(N=1000, p_count=100, phi_count=100, phi_init=0, num_opinions=50, runs=100)"
   ]
  },
  {
   "cell_type": "code",
   "execution_count": null,
   "metadata": {},
   "outputs": [],
   "source": [
    "# mais rápido de obter se não conseguirmos correr o de cima\n",
    "contour_plot_number_of_surviving_opinions(N=800, p_count=50, phi_count=40, phi_init=0.2, num_opinions=30, runs=50)"
   ]
  },
  {
   "cell_type": "code",
   "execution_count": 73,
   "metadata": {},
   "outputs": [],
   "source": [
    "def get_rank_distribution(G, normalized=True):  \n",
    "    rank_sequence = list(nx.get_node_attributes(G, 'opinion').values())  # rank sequence\n",
    "    rankCount = Counter(rank_sequence).most_common()\n",
    "    aux_y = [c for o,c in rankCount]\n",
    "    aux_x = list(range(1, len(aux_y)+1))\n",
    "\n",
    "    n_nodes = G.number_of_nodes()\n",
    "    if normalized:\n",
    "        for i in range(len(aux_y)):\n",
    "            aux_y[i] = aux_y[i]/n_nodes\n",
    "    return aux_x, aux_y\n",
    "    \n",
    "def plot_rank_distribution(G, normalized=True):\n",
    "    aux_x, aux_y= get_rank_distribution(G, normalized=True)\n",
    "    plt.xscale(\"log\")\n",
    "    plt.yscale(\"log\")\n",
    "    plt.plot(aux_x, aux_y, '-o')"
   ]
  },
  {
   "cell_type": "code",
   "execution_count": 77,
   "metadata": {},
   "outputs": [
    {
     "data": {
      "image/png": "[encoded data removed]",
      "text/plain": [
       "<Figure size 640x480 with 1 Axes>"
      ]
     },
     "metadata": {},
     "output_type": "display_data"
    }
   ],
   "source": [
    "simul = Simulation(N=1000, avg_degree=10, num_opinions=8, phi=0.6, p=0.8)\n",
    "#plot_rank_distribution(simul.graph, normalized=True)\n",
    "plot_rank_distribution(simul.graph, normalized=True)"
   ]
  }
 ],
 "metadata": {
  "kernelspec": {
   "display_name": "Python 3 (ipykernel)",
   "language": "python",
   "name": "python3"
  },
  "language_info": {
   "codemirror_mode": {
    "name": "ipython",
    "version": 3
   },
   "file_extension": ".py",
   "mimetype": "text/x-python",
   "name": "python",
   "nbconvert_exporter": "python",
   "pygments_lexer": "ipython3",
   "version": "3.9.13"
  }
 },
 "nbformat": 4,
 "nbformat_minor": 2
}
